{
  "nbformat": 4,
  "nbformat_minor": 0,
  "metadata": {
    "colab": {
      "provenance": []
    },
    "kernelspec": {
      "name": "python3",
      "display_name": "Python 3"
    },
    "language_info": {
      "name": "python"
    }
  },
  "cells": [
    {
      "cell_type": "markdown",
      "source": [
        "1. What is Python, and why is it popular\n",
        "   - python is a high-level, interpretend programming language known for its readability and versatility.\n",
        "   - it is widely used in web development, data nalysis, artificial-intelligence, scientific computing and more.\n",
        "   -it is popular because of it's simple syntax , large library support and widely used in industries like tech, finance and science.\n",
        "   -python is open-source and has a large community that contribute to its extensive libraries and frameworks."
      ],
      "metadata": {
        "id": "WTPs4v6GyzWG"
      }
    },
    {
      "cell_type": "markdown",
      "source": [
        "2. What is an interpreter in Python ?\n",
        "   -  An interpreter transulates and execute code line by line , during runt time.\n",
        "   - execution = reads and executes the code one statement at a time.\n",
        "   - speed = its goes slower, because transulation happens during execution.\n",
        "   - error handling = stops at the first error and shows it immediately.\n",
        "   - output = no separate output file, it just runs the program.\n",
        "   examples :\n",
        "              1. python\n",
        "              2. Javascript\n",
        "              3. ruby\n",
        "    Usecase = Good for scripting , rapid development and debugging.          "
      ],
      "metadata": {
        "id": "oVEOY3B31VSa"
      }
    },
    {
      "cell_type": "markdown",
      "source": [
        "3. What are pre-defined keywords in Python ?\n",
        "  - pre-defined keywords in python are special reserved words that have specific meanings and purposes in the language.\n",
        "  -we use them to define the syntax and structure of programs and we can not use them as variable names.\n",
        "  - we have print, type, for, if, not, none, while, for,def , else etc."
      ],
      "metadata": {
        "id": "RjMpJYDp3TMH"
      }
    },
    {
      "cell_type": "markdown",
      "source": [
        "4. Can keywords be used as variable names ?\n",
        "    - python keywords are reserved words that have special meaning in the lanaguage. They define the syntax and structure of python programs. using them as a variable confuse the inetrpreter, because it don't know what you are referring to a variable or a language feature.\n"
      ],
      "metadata": {
        "id": "85fSNeXy8A6d"
      }
    },
    {
      "cell_type": "markdown",
      "source": [
        "5. What is mutability in Python ?\n",
        "    - objects whose state or value can be changed after they are created are called as mutable objects or container.\n",
        "    - list is a type of mutable object and supports item assignment."
      ],
      "metadata": {
        "id": "w-eJhkuc9fjx"
      }
    },
    {
      "cell_type": "markdown",
      "source": [
        "6. Why are lists mutable, but tuples are immutable\n",
        "   - lists are mutable object because we can change a list after it created.\n",
        "   - we can add, remove or update elements.\n",
        "   - tuples are immutable because we can not change one it is created.\n",
        "   - we can not add, remove or update elements."
      ],
      "metadata": {
        "id": "6sIKq8LM-Izs"
      }
    },
    {
      "cell_type": "markdown",
      "source": [
        "7. What is the difference between “==” and “is” operators in Python ?\n",
        "   - \"==\" it checks whether two variables have the same value,even if they are different objects\n",
        "   - \"is\" it checks whether two variables point to the excat same object in memory."
      ],
      "metadata": {
        "id": "iZtzvnwb_LJb"
      }
    },
    {
      "cell_type": "markdown",
      "source": [
        "8. What are logical operators in Python ?\n",
        "   - logical operators are used to combine or evalute boolean expressions.\n",
        "   - operators : and , or , not\n",
        "   - and : true if both are true.\n",
        "      example : x > 3 and x < 10\n",
        "   - or : True if at least one is True.\n",
        "      example : x > 3 or x < 2\n",
        "   - not : Reverses the Boolean value.\n",
        "      example : not(x > 3)\n",
        "\n"
      ],
      "metadata": {
        "id": "wQLGkKGoAV9z"
      }
    },
    {
      "cell_type": "markdown",
      "source": [
        "9. What is type casting in Python ?\n",
        "   - type casting converts one data type into another.\n",
        "   - example : converting a string into a integer.\n",
        "   - we have two types of type casting explicit and implicit.\n",
        "   - explicit converts data type manually by using fuctions, like int() and float().\n",
        "   -implicit automatically converts one data type into another during operations."
      ],
      "metadata": {
        "id": "rvX3Nya-CPUB"
      }
    },
    {
      "cell_type": "markdown",
      "source": [
        "10. What is the difference between implicit and explicit type casting ?\n",
        "   - implicit casting converts one data type to another data type during operations.\n",
        "   - explicit casting manually converts a data type using fuctions like int(),float()."
      ],
      "metadata": {
        "id": "aAsFuYyYC-i0"
      }
    },
    {
      "cell_type": "markdown",
      "source": [
        "11. What is the purpose of conditional statements in Python ?\n",
        "    - It helps to code decisions based on preconditions.\n",
        "    - They control the flow of execution.\n",
        "    - conditional statements : if, elif, else etc.\n",
        "\n"
      ],
      "metadata": {
        "id": "GjOao2z3CIok"
      }
    },
    {
      "cell_type": "markdown",
      "source": [
        "12. How does the elif statement work ?\n",
        "    -  elif also means else if statement.\n",
        "    - it checks another condition if the first one is false.\n",
        "    - how it works\n",
        "      * if checks first\n",
        "      * if if statement is false, python checks elif.\n",
        "      * if elif is also false, it goes to else."
      ],
      "metadata": {
        "id": "fzqDT2MlFifZ"
      }
    },
    {
      "cell_type": "markdown",
      "source": [
        "13. What is the difference between for and while loops ?\n",
        "     - for loop iterates overa sequence of elements string, list.\n",
        "     - while loop repeatedly executes a block of code until a condition is met."
      ],
      "metadata": {
        "id": "mhjO_ziQHCa4"
      }
    },
    {
      "cell_type": "markdown",
      "source": [
        "14. Describe a scenario where a while loop is more suitable than a for loop.\n",
        "   - we can use while loop when you don't know how amny times you need to reapeat something until a condition changes.\n",
        "   - we can use in asking correct password. this loop keep asking untill the user types the correct password.\n"
      ],
      "metadata": {
        "id": "jkRmEY_vHzeY"
      }
    },
    {
      "cell_type": "code",
      "source": [
        "# 1.Write a Python program to print \"Hello, World!y\n",
        "print(\"Hello, world!y\")\n"
      ],
      "metadata": {
        "colab": {
          "base_uri": "https://localhost:8080/"
        },
        "id": "E-6dZzVqJCK3",
        "outputId": "c5599083-9589-4eae-a652-a91dd3654cfa"
      },
      "execution_count": 1,
      "outputs": [
        {
          "output_type": "stream",
          "name": "stdout",
          "text": [
            "Hello, world!y\n"
          ]
        }
      ]
    },
    {
      "cell_type": "code",
      "source": [
        "# 2. Write a Python program that displays your name and age.\n",
        "name = \"ninisha\"\n",
        "age = \"20\"\n",
        "print(\"my name is\", name)\n",
        "print(\"my age is\", age)"
      ],
      "metadata": {
        "colab": {
          "base_uri": "https://localhost:8080/"
        },
        "id": "SI1_j7i-JXju",
        "outputId": "d648e8bc-f46c-41fa-b1d2-a969367b8456"
      },
      "execution_count": 7,
      "outputs": [
        {
          "output_type": "stream",
          "name": "stdout",
          "text": [
            "my name is ninisha\n",
            "my age is 20\n"
          ]
        }
      ]
    },
    {
      "cell_type": "code",
      "source": [
        "# 3.Write code to print all the pre-defined keywords in Python using the keyword library\n",
        "import keyword\n",
        "keywords = keyword.kwlist\n",
        "print(\"python keywords:\")\n",
        "for word in keywords:\n",
        "  print(word)"
      ],
      "metadata": {
        "colab": {
          "base_uri": "https://localhost:8080/"
        },
        "id": "p4ESsdAlKSX4",
        "outputId": "3609657e-cf58-4821-d41a-dd8d7f892194"
      },
      "execution_count": 8,
      "outputs": [
        {
          "output_type": "stream",
          "name": "stdout",
          "text": [
            "python keywords:\n",
            "False\n",
            "None\n",
            "True\n",
            "and\n",
            "as\n",
            "assert\n",
            "async\n",
            "await\n",
            "break\n",
            "class\n",
            "continue\n",
            "def\n",
            "del\n",
            "elif\n",
            "else\n",
            "except\n",
            "finally\n",
            "for\n",
            "from\n",
            "global\n",
            "if\n",
            "import\n",
            "in\n",
            "is\n",
            "lambda\n",
            "nonlocal\n",
            "not\n",
            "or\n",
            "pass\n",
            "raise\n",
            "return\n",
            "try\n",
            "while\n",
            "with\n",
            "yield\n"
          ]
        }
      ]
    },
    {
      "cell_type": "code",
      "metadata": {
        "colab": {
          "base_uri": "https://localhost:8080/"
        },
        "id": "6ade3df8",
        "outputId": "c8b3e3a9-7e08-4c25-f635-f68fc1eccff4"
      },
      "source": [
        "# 4.Write a program that checks if a given word is a Python keyword.\n",
        "python_keywords = [\n",
        "    'False', 'None', 'True', 'and', 'as', 'assert', 'async', 'await',\n",
        "    'break', 'class', 'continue', 'def', 'del', 'elif', 'else', 'except',\n",
        "    'finally', 'for', 'from', 'global', 'if', 'import', 'in', 'is',\n",
        "    'lambda', 'nonlocal', 'not', 'or', 'pass', 'raise', 'return', 'try',\n",
        "    'while', 'with', 'yield'\n",
        "]\n",
        "\n",
        "word = input(\"Enter a word: \")\n",
        "\n",
        "if word in python_keywords:\n",
        "  print(f\"'{word}' is a Python keyword.\")\n",
        "else:\n",
        "  print(f\"'{word}' is not a Python keyword.\")"
      ],
      "execution_count": 29,
      "outputs": [
        {
          "output_type": "stream",
          "name": "stdout",
          "text": [
            "Enter a word: for\n",
            "'for' is a Python keyword.\n"
          ]
        }
      ]
    },
    {
      "cell_type": "code",
      "source": [
        "# 5.Create a list and tuple in Python, and demonstrate how attempting to change an element works differently.\n",
        "my_list = [1, 2, 3, 4, 5]\n",
        "my_tuple = (1, 2, 3, 4, 5)\n",
        "\n",
        "print(\"Original list:\", my_list)\n",
        "print(\"Original tuple:\", my_tuple)\n",
        "my_list[0] = 10\n",
        "print(\"List after changing the first element:\", my_list)\n",
        "print(\"\\nTuples are immutable, so you cannot change their elements after creation.\")"
      ],
      "metadata": {
        "colab": {
          "base_uri": "https://localhost:8080/"
        },
        "id": "FNT43Be3Qu2b",
        "outputId": "21b2aa36-4972-4d3c-e0b8-013c9d2d3d0e"
      },
      "execution_count": 32,
      "outputs": [
        {
          "output_type": "stream",
          "name": "stdout",
          "text": [
            "Original list: [1, 2, 3, 4, 5]\n",
            "Original tuple: (1, 2, 3, 4, 5)\n",
            "List after changing the first element: [10, 2, 3, 4, 5]\n",
            "\n",
            "Tuples are immutable, so you cannot change their elements after creation.\n"
          ]
        }
      ]
    },
    {
      "cell_type": "code",
      "source": [
        "# 6. Write a function to demonstrate the behavior of mutable and immutable arguments.\n",
        "\n",
        "def modify_list(my_list):\n",
        "  print(\"Inside function (before modification):\", my_list)\n",
        "  my_list.append(6)\n",
        "  print(\"Inside function (after modification):\", my_list)\n",
        "def modify_number(my_number):\n",
        "  print(\"Inside function (before modification):\", my_number)\n",
        "  my_number = my_number + 10\n",
        "  print(\"Inside function (after modification):\", my_number)\n",
        "my_list_arg = [1, 2, 3, 4, 5]\n",
        "print(\"Before function call (list):\", my_list_arg)\n",
        "modify_list(my_list_arg)\n",
        "print(\"After function call (list):\", my_list_arg)\n",
        "print(\"-\" * 20)\n",
        "my_number_arg = 10\n",
        "print(\"Before function call (number):\", my_number_arg)\n",
        "modify_number(my_number_arg)\n",
        "print(\"After function call (number):\", my_number_arg)"
      ],
      "metadata": {
        "colab": {
          "base_uri": "https://localhost:8080/"
        },
        "id": "CRm4mFrTTARD",
        "outputId": "04b710ad-ee97-4598-caf1-bf80dbead0df"
      },
      "execution_count": 34,
      "outputs": [
        {
          "output_type": "stream",
          "name": "stdout",
          "text": [
            "Before function call (list): [1, 2, 3, 4, 5]\n",
            "Inside function (before modification): [1, 2, 3, 4, 5]\n",
            "Inside function (after modification): [1, 2, 3, 4, 5, 6]\n",
            "After function call (list): [1, 2, 3, 4, 5, 6]\n",
            "--------------------\n",
            "Before function call (number): 10\n",
            "Inside function (before modification): 10\n",
            "Inside function (after modification): 20\n",
            "After function call (number): 10\n"
          ]
        }
      ]
    },
    {
      "cell_type": "code",
      "source": [
        "# 7. Write a program that performs basic arithmetic operations on two user-input numbers.\n",
        "# Ask the user to enter two numbers\n",
        "num1 = float(input(\"Enter first number: \"))\n",
        "num2 = float(input(\"Enter second number: \"))\n",
        "# Perform basic arithmetic operations\n",
        "print(\"Addition:\", num1 + num2)\n",
        "print(\"Subtraction:\", num1 - num2)\n",
        "print(\"Multiplication:\", num1 * num2)\n",
        "if num2 != 0:\n",
        "    print(\"Division:\", num1 / num2)\n",
        "else:\n",
        "    print(\"Division: Cannot divide by zero\")"
      ],
      "metadata": {
        "colab": {
          "base_uri": "https://localhost:8080/"
        },
        "id": "RLz5yNAFVe-5",
        "outputId": "f21a5086-086b-4448-ccfe-310694f8862f"
      },
      "execution_count": 38,
      "outputs": [
        {
          "output_type": "stream",
          "name": "stdout",
          "text": [
            "Enter first number: 10\n",
            "Enter second number: 6\n",
            "Addition: 16.0\n",
            "Subtraction: 4.0\n",
            "Multiplication: 60.0\n",
            "Division: 1.6666666666666667\n"
          ]
        }
      ]
    },
    {
      "cell_type": "code",
      "source": [
        "# 8. Write a program to demonstrate the use of logical operators.\n",
        "cond1 = input(\"Enter True or False for condition 1: \")\n",
        "cond2 = input(\"Enter True or False for condition 2: \")\n",
        "if cond1 == \"True\":\n",
        "    cond1_value = True\n",
        "else:\n",
        "    cond1_value = False\n",
        "if cond2 == \"True\":\n",
        "    cond2_value = True\n",
        "else:\n",
        "    cond2_value = False\n",
        "print(\"AND:\", cond1_value and cond2_value)\n",
        "print(\"OR:\", cond1_value or cond2_value)\n",
        "print(\"NOT condition 1:\", not cond1_value)\n",
        "print(\"NOT condition 2:\", not cond2_value)"
      ],
      "metadata": {
        "colab": {
          "base_uri": "https://localhost:8080/"
        },
        "id": "_yh8aW7AV2wy",
        "outputId": "e3b35b50-cbf2-4c9a-c084-1a87a5ef6fac"
      },
      "execution_count": 40,
      "outputs": [
        {
          "output_type": "stream",
          "name": "stdout",
          "text": [
            "Enter True or False for condition 1: false\n",
            "Enter True or False for condition 2: true\n",
            "AND: False\n",
            "OR: False\n",
            "NOT condition 1: True\n",
            "NOT condition 2: True\n"
          ]
        }
      ]
    },
    {
      "cell_type": "code",
      "source": [
        "# 9. Write a Python program to convert user input from string to integer, float, and boolean types.\n",
        "user_input = input(\"Enter a number: \")\n",
        "int_value = int(user_input)\n",
        "print(\"As integer:\", int_value)\n",
        "float_value = float(user_input)\n",
        "print(\"As float:\", float_value)\n",
        "bool_value = bool(user_input)\n",
        "print(\"As boolean:\", bool_value)\n",
        "\n"
      ],
      "metadata": {
        "colab": {
          "base_uri": "https://localhost:8080/"
        },
        "id": "eKeVjpJSWsc7",
        "outputId": "70c1a5da-4924-4996-e847-36c02e120083"
      },
      "execution_count": 48,
      "outputs": [
        {
          "output_type": "stream",
          "name": "stdout",
          "text": [
            "Enter a number: 7\n",
            "As integer: 7\n",
            "As float: 7.0\n",
            "As boolean: True\n"
          ]
        }
      ]
    },
    {
      "cell_type": "code",
      "source": [
        "# 10. Write code to demonstrate type casting with list elements.\n",
        "string_list = [\"10\", \"20\", \"30\"]\n",
        "int_list = [int(x) for x in string_list]\n",
        "print(\"As integers:\", int_list)\n",
        "float_list = [float(x) for x in string_list]\n",
        "print(\"As floats:\", float_list)\n",
        "bool_list = [bool(x) for x in string_list]\n",
        "print(\"As booleans:\", bool_list)"
      ],
      "metadata": {
        "colab": {
          "base_uri": "https://localhost:8080/"
        },
        "id": "h2sMsajwXWmZ",
        "outputId": "a07b1717-7bb0-4677-ab3a-b040e8bf6aca"
      },
      "execution_count": 44,
      "outputs": [
        {
          "output_type": "stream",
          "name": "stdout",
          "text": [
            "As integers: [10, 20, 30]\n",
            "As floats: [10.0, 20.0, 30.0]\n",
            "As booleans: [True, True, True]\n"
          ]
        }
      ]
    },
    {
      "cell_type": "code",
      "source": [
        "# 11.Write a program that checks if a number is positive, negative, or zero.\n",
        "num = float(input(\"Enter a number: \"))\n",
        "if num > 0:\n",
        "    print(\"The number is positive.\")\n",
        "elif num < 0:\n",
        "    print(\"The number is negative.\")\n",
        "else:\n",
        "    print(\"The number is zero.\")"
      ],
      "metadata": {
        "colab": {
          "base_uri": "https://localhost:8080/"
        },
        "id": "xY2PKuPDX4U3",
        "outputId": "b2ff9309-c229-4f98-8912-50be4a14a2a2"
      },
      "execution_count": 46,
      "outputs": [
        {
          "output_type": "stream",
          "name": "stdout",
          "text": [
            "Enter a number: 7\n",
            "The number is positive.\n"
          ]
        }
      ]
    },
    {
      "cell_type": "code",
      "source": [
        "# 12.Write a for loop to print numbers from 1 to 10.\n",
        "# Print numbers from 1 to 10 using a for loop\n",
        "for number in range(1, 11):\n",
        "    print(number)"
      ],
      "metadata": {
        "colab": {
          "base_uri": "https://localhost:8080/"
        },
        "id": "To7VOr74Y0eY",
        "outputId": "d68e7a70-043e-40af-db20-dd72d7869353"
      },
      "execution_count": 49,
      "outputs": [
        {
          "output_type": "stream",
          "name": "stdout",
          "text": [
            "1\n",
            "2\n",
            "3\n",
            "4\n",
            "5\n",
            "6\n",
            "7\n",
            "8\n",
            "9\n",
            "10\n"
          ]
        }
      ]
    },
    {
      "cell_type": "code",
      "source": [
        "# 13.Write a Python program to find the sum of all even numbers between 1 and 50.\n",
        "\n"
      ],
      "metadata": {
        "id": "0I5w97mlZBbY"
      },
      "execution_count": null,
      "outputs": []
    },
    {
      "cell_type": "code",
      "metadata": {
        "colab": {
          "base_uri": "https://localhost:8080/"
        },
        "id": "29903a74",
        "outputId": "217b6c3f-b9dc-4f23-a719-9806ee18bac3"
      },
      "source": [
        "# 13.Write a Python program to find the sum of all even numbers between 1 and 50.\n",
        "total_sum = 0\n",
        "for number in range(1, 51):\n",
        "  if number % 2 == 0:\n",
        "    total_sum = total_sum + number\n",
        "print(\"The sum of all even numbers between 1 and 50 is:\", total_sum)"
      ],
      "execution_count": 51,
      "outputs": [
        {
          "output_type": "stream",
          "name": "stdout",
          "text": [
            "The sum of all even numbers between 1 and 50 is: 650\n"
          ]
        }
      ]
    },
    {
      "cell_type": "code",
      "source": [
        "# 14. Write a program to reverse a string using a while loop."
      ],
      "metadata": {
        "id": "O-_HoO_zZxFo"
      },
      "execution_count": null,
      "outputs": []
    },
    {
      "cell_type": "code",
      "metadata": {
        "colab": {
          "base_uri": "https://localhost:8080/"
        },
        "id": "2c3c9536",
        "outputId": "5428675c-97d5-482e-cd46-8a52b9452d1b"
      },
      "source": [
        "# 14. Write a program to reverse a string using a while loop.\n",
        "input_string = input(\"Enter a string: \")\n",
        "reversed_string = \"\"\n",
        "index = len(input_string) - 1\n",
        "while index >= 0:\n",
        "  reversed_string = reversed_string + input_string[index]\n",
        "  index = index - 1\n",
        "print(\"Reversed string:\", reversed_string)"
      ],
      "execution_count": 53,
      "outputs": [
        {
          "output_type": "stream",
          "name": "stdout",
          "text": [
            "Enter a string: rudra\n",
            "Reversed string: ardur\n"
          ]
        }
      ]
    },
    {
      "cell_type": "code",
      "source": [
        "# 15. Write a Python program to calculate the factorial of a number provided by the user using a while loop"
      ],
      "metadata": {
        "id": "WhxzdTPOaQbZ"
      },
      "execution_count": null,
      "outputs": []
    },
    {
      "cell_type": "code",
      "metadata": {
        "colab": {
          "base_uri": "https://localhost:8080/"
        },
        "id": "61bff38a",
        "outputId": "0804c1f9-3169-4756-97f2-daf26fa8c09e"
      },
      "source": [
        "# 15. Write a Python program to calculate the factorial of a number provided by the user using a while loop\n",
        "num = int(input(\"Enter a non-negative integer: \"))\n",
        "if num < 0:\n",
        "  print(\"Factorial is not defined for negative numbers\")\n",
        "elif num == 0:\n",
        "  print(\"The factorial of 0 is 1\")\n",
        "else:\n",
        "  factorial = 1\n",
        "  i = 1\n",
        "  while i <= num:\n",
        "    factorial = factorial * i\n",
        "    i = i + 1\n",
        "  print(f\"The factorial of {num} is {factorial}\")"
      ],
      "execution_count": 55,
      "outputs": [
        {
          "output_type": "stream",
          "name": "stdout",
          "text": [
            "Enter a non-negative integer: 6\n",
            "The factorial of 6 is 720\n"
          ]
        }
      ]
    }
  ]
}